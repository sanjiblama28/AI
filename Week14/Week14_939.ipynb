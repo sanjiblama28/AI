{
  "cells": [
    {
      "cell_type": "markdown",
      "metadata": {
        "id": "view-in-github",
        "colab_type": "text"
      },
      "source": [
        "<a href=\"https://colab.research.google.com/github/sanjiblama28/AI/blob/main/Week14_939.ipynb\" target=\"_parent\"><img src=\"https://colab.research.google.com/assets/colab-badge.svg\" alt=\"Open In Colab\"/></a>"
      ]
    },
    {
      "cell_type": "markdown",
      "metadata": {
        "id": "Rhn8ZT83931l"
      },
      "source": [
        "# The Transformer architecture"
      ]
    },
    {
      "cell_type": "markdown",
      "metadata": {
        "id": "4hAuO8ng-C7J"
      },
      "source": [
        "## Understanding self-attention"
      ]
    },
    {
      "cell_type": "markdown",
      "metadata": {
        "id": "BoivAQxq-GiM"
      },
      "source": [
        "## Generalized self-attention: the query-key-value model"
      ]
    },
    {
      "cell_type": "markdown",
      "metadata": {
        "id": "kGTQG2c6-Nu8"
      },
      "source": [
        "## Multi-head attention"
      ]
    },
    {
      "cell_type": "markdown",
      "metadata": {
        "id": "GY11dT4U-Qyb"
      },
      "source": [
        "## The Transformer encoder"
      ]
    },
    {
      "cell_type": "markdown",
      "metadata": {
        "id": "Gl498LnS-VYt"
      },
      "source": [
        "**Getting the data**"
      ]
    },
    {
      "cell_type": "code",
      "execution_count": 1,
      "metadata": {
        "colab": {
          "base_uri": "https://localhost:8080/"
        },
        "id": "EkSbY7CE9o8t",
        "outputId": "915aad5e-e154-444c-e038-d9fa945d839f"
      },
      "outputs": [
        {
          "output_type": "stream",
          "name": "stdout",
          "text": [
            "  % Total    % Received % Xferd  Average Speed   Time    Time     Time  Current\n",
            "                                 Dload  Upload   Total   Spent    Left  Speed\n",
            "100 80.2M  100 80.2M    0     0  21.2M      0  0:00:03  0:00:03 --:--:-- 21.3M\n"
          ]
        }
      ],
      "source": [
        "!curl -O https://ai.stanford.edu/~amaas/data/sentiment/aclImdb_v1.tar.gz\n",
        "!tar -xf aclImdb_v1.tar.gz\n",
        "!rm -r aclImdb/train/unsup"
      ]
    },
    {
      "cell_type": "markdown",
      "metadata": {
        "id": "t061EPj5-tqh"
      },
      "source": [
        "**Preparing the data**"
      ]
    },
    {
      "cell_type": "code",
      "execution_count": 2,
      "metadata": {
        "colab": {
          "base_uri": "https://localhost:8080/"
        },
        "id": "i4rQLFxz-ruh",
        "outputId": "4d029693-76bd-4849-df61-5102eff23b93"
      },
      "outputs": [
        {
          "output_type": "stream",
          "name": "stdout",
          "text": [
            "Found 20000 files belonging to 2 classes.\n",
            "Found 5000 files belonging to 2 classes.\n",
            "Found 25000 files belonging to 2 classes.\n"
          ]
        }
      ],
      "source": [
        "import os, pathlib, shutil, random\n",
        "from tensorflow import keras\n",
        "\n",
        "batch_size = 32\n",
        "base_dir = pathlib.Path(\"aclImdb\")\n",
        "val_dir = base_dir / \"val\"\n",
        "train_dir = base_dir / \"train\"\n",
        "\n",
        "for category in (\"neg\", \"pos\"):\n",
        "  os.makedirs(val_dir / category)\n",
        "  files = os.listdir(train_dir / category)\n",
        "  random.Random(1337).shuffle(files)\n",
        "  num_val_samples = int(0.2 * len(files))\n",
        "  val_files = files[-num_val_samples:]\n",
        "  \n",
        "  for fname in val_files:\n",
        "    shutil.move(train_dir / category / fname,\n",
        "                val_dir / category / fname)\n",
        "    \n",
        "train_ds = keras.utils.text_dataset_from_directory(\n",
        "    \"aclImdb/train\", batch_size = batch_size\n",
        ")\n",
        "val_ds = keras.utils.text_dataset_from_directory(\n",
        "    \"aclImdb/val\", batch_size = batch_size\n",
        ")\n",
        "test_ds = keras.utils.text_dataset_from_directory(\n",
        "    \"aclImdb/test\", batch_size = batch_size\n",
        ")\n",
        "\n",
        "text_only_train_ds = train_ds.map(lambda x, y: x)"
      ]
    },
    {
      "cell_type": "markdown",
      "metadata": {
        "id": "5XDj3ufLAM11"
      },
      "source": [
        "**Vectorizing the data**"
      ]
    },
    {
      "cell_type": "code",
      "execution_count": 3,
      "metadata": {
        "id": "zj76A1sDAPND"
      },
      "outputs": [],
      "source": [
        "from tensorflow.keras import layers\n",
        "\n",
        "max_length = 600\n",
        "max_tokens = 20000\n",
        "text_vectorization = layers.TextVectorization(\n",
        "    max_tokens = max_tokens,\n",
        "    output_mode = \"int\",\n",
        "    output_sequence_length = max_length,\n",
        ")\n",
        "\n",
        "text_vectorization.adapt(text_only_train_ds)\n",
        "\n",
        "int_train_ds = train_ds.map(\n",
        "    lambda x, y: (text_vectorization(x), y),\n",
        "    num_parallel_calls = 4\n",
        ")\n",
        "\n",
        "int_val_ds = train_ds.map(\n",
        "    lambda x, y: (text_vectorization(x), y),\n",
        "    num_parallel_calls = 4\n",
        ")\n",
        "\n",
        "int_test_ds = train_ds.map(\n",
        "    lambda x, y: (text_vectorization(x), y),\n",
        "    num_parallel_calls = 4\n",
        ")"
      ]
    },
    {
      "cell_type": "markdown",
      "metadata": {
        "id": "TTY3o-TjA-4U"
      },
      "source": [
        "**Transformer encoder implemented as a subclassed Layer**"
      ]
    },
    {
      "cell_type": "code",
      "execution_count": 4,
      "metadata": {
        "id": "WCME1sc9BEZw"
      },
      "outputs": [],
      "source": [
        "import tensorflow as tf\n",
        "from tensorflow import keras\n",
        "from tensorflow.keras import layers\n",
        "\n",
        "class TransformerEncoder(layers.Layer):\n",
        "  def __init__(self, embed_dim, dense_dim, num_heads, **kwargs):\n",
        "    super().__init__(**kwargs)\n",
        "    self.embed_dim = embed_dim\n",
        "    self.dense_dim = dense_dim\n",
        "    self.num_heads = num_heads\n",
        "    self.attention = layers.MultiHeadAttention(\n",
        "        num_heads = num_heads, key_dim = embed_dim\n",
        "    )\n",
        "    self.dense_proj = keras.Sequential(\n",
        "        [layers.Dense(dense_dim, activation=\"relu\"),\n",
        "         layers.Dense(embed_dim),]\n",
        "    )\n",
        "    self.layernorm_1 = layers.LayerNormalization()\n",
        "    self.layernorm_2 = layers.LayerNormalization()\n",
        "\n",
        "  def call(self, inputs, mask=None):\n",
        "    if mask is not None:\n",
        "      mask = mask[:, tf.newaxis, :]\n",
        "\n",
        "    attention_output = self.attention(inputs, inputs, attention_mask = mask)\n",
        "    proj_input = self.layernorm_1(inputs + attention_output)\n",
        "    proj_output = self.dense_proj(proj_input)\n",
        "    return self.layernorm_2(proj_input + proj_output)\n",
        "\n",
        "  def get_config(self):\n",
        "    config = super().get_config()\n",
        "    config.update({\n",
        "        \"embed_dim\": self.embed_dim,\n",
        "        \"num_heads\": self.num_heads,\n",
        "        \"dense_dim\": self.dense_dim,\n",
        "    })\n",
        "    return config"
      ]
    },
    {
      "cell_type": "markdown",
      "metadata": {
        "id": "BGnqs1q9DFZj"
      },
      "source": [
        "**Using Transformer encoder for text classification**"
      ]
    },
    {
      "cell_type": "code",
      "execution_count": 5,
      "metadata": {
        "colab": {
          "base_uri": "https://localhost:8080/"
        },
        "id": "5qlful8RDKUW",
        "outputId": "5d815140-0387-43c5-c0e3-6553f6111c7f"
      },
      "outputs": [
        {
          "output_type": "stream",
          "name": "stdout",
          "text": [
            "Model: \"model\"\n",
            "_________________________________________________________________\n",
            " Layer (type)                Output Shape              Param #   \n",
            "=================================================================\n",
            " input_1 (InputLayer)        [(None, None)]            0         \n",
            "                                                                 \n",
            " embedding (Embedding)       (None, None, 256)         5120000   \n",
            "                                                                 \n",
            " transformer_encoder (Transf  (None, None, 256)        543776    \n",
            " ormerEncoder)                                                   \n",
            "                                                                 \n",
            " global_max_pooling1d (Globa  (None, 256)              0         \n",
            " lMaxPooling1D)                                                  \n",
            "                                                                 \n",
            " dropout (Dropout)           (None, 256)               0         \n",
            "                                                                 \n",
            " dense_2 (Dense)             (None, 1)                 257       \n",
            "                                                                 \n",
            "=================================================================\n",
            "Total params: 5,664,033\n",
            "Trainable params: 5,664,033\n",
            "Non-trainable params: 0\n",
            "_________________________________________________________________\n"
          ]
        }
      ],
      "source": [
        "vocab_size = 20000\n",
        "embed_dim = 256\n",
        "num_heads = 2\n",
        "dense_dim = 32\n",
        "\n",
        "inputs = keras.Input(shape = (None,), dtype = \"int64\")\n",
        "x = layers.Embedding(vocab_size, embed_dim)(inputs)\n",
        "x = TransformerEncoder(embed_dim, dense_dim, num_heads)(x)\n",
        "x = layers.GlobalMaxPooling1D()(x)\n",
        "x = layers.Dropout(0.5)(x)\n",
        "outputs = layers.Dense(1, activation = \"sigmoid\")(x)\n",
        "model = keras.Model(inputs, outputs)\n",
        "model.compile(optimizer = \"rmsprop\",\n",
        "              loss = \"binary_crossentropy\",\n",
        "              metrics=[\"accuracy\"])\n",
        "model.summary()"
      ]
    },
    {
      "cell_type": "markdown",
      "metadata": {
        "id": "kBV6RSCmFk3K"
      },
      "source": [
        "**Training and evaluating the Transformer encoder based model**"
      ]
    },
    {
      "cell_type": "code",
      "execution_count": 6,
      "metadata": {
        "colab": {
          "base_uri": "https://localhost:8080/"
        },
        "id": "PMgU2svSFpSu",
        "outputId": "77214769-2f63-4503-ec7b-ff389373bba2"
      },
      "outputs": [
        {
          "output_type": "stream",
          "name": "stdout",
          "text": [
            "Epoch 1/20\n",
            "625/625 [==============================] - 60s 85ms/step - loss: 0.4870 - accuracy: 0.7760 - val_loss: 0.3078 - val_accuracy: 0.8683\n",
            "Epoch 2/20\n",
            "625/625 [==============================] - 52s 84ms/step - loss: 0.3146 - accuracy: 0.8669 - val_loss: 0.2130 - val_accuracy: 0.9158\n",
            "Epoch 3/20\n",
            "625/625 [==============================] - 54s 86ms/step - loss: 0.2430 - accuracy: 0.9003 - val_loss: 0.1509 - val_accuracy: 0.9427\n",
            "Epoch 4/20\n",
            "625/625 [==============================] - 53s 85ms/step - loss: 0.1890 - accuracy: 0.9276 - val_loss: 0.1340 - val_accuracy: 0.9492\n",
            "Epoch 5/20\n",
            "625/625 [==============================] - 52s 84ms/step - loss: 0.1538 - accuracy: 0.9404 - val_loss: 0.1264 - val_accuracy: 0.9531\n",
            "Epoch 6/20\n",
            "625/625 [==============================] - 54s 86ms/step - loss: 0.1302 - accuracy: 0.9504 - val_loss: 0.0799 - val_accuracy: 0.9720\n",
            "Epoch 7/20\n",
            "625/625 [==============================] - 53s 84ms/step - loss: 0.1121 - accuracy: 0.9595 - val_loss: 0.0847 - val_accuracy: 0.9692\n",
            "Epoch 8/20\n",
            "625/625 [==============================] - 54s 86ms/step - loss: 0.0972 - accuracy: 0.9652 - val_loss: 0.0699 - val_accuracy: 0.9770\n",
            "Epoch 9/20\n",
            "625/625 [==============================] - 54s 86ms/step - loss: 0.0846 - accuracy: 0.9690 - val_loss: 0.0681 - val_accuracy: 0.9743\n",
            "Epoch 10/20\n",
            "625/625 [==============================] - 53s 85ms/step - loss: 0.0753 - accuracy: 0.9726 - val_loss: 0.0426 - val_accuracy: 0.9843\n",
            "Epoch 11/20\n",
            "625/625 [==============================] - 54s 86ms/step - loss: 0.0608 - accuracy: 0.9774 - val_loss: 0.0439 - val_accuracy: 0.9843\n",
            "Epoch 12/20\n",
            "625/625 [==============================] - 53s 84ms/step - loss: 0.0544 - accuracy: 0.9808 - val_loss: 0.0410 - val_accuracy: 0.9843\n",
            "Epoch 13/20\n",
            "625/625 [==============================] - 54s 87ms/step - loss: 0.0455 - accuracy: 0.9841 - val_loss: 0.0371 - val_accuracy: 0.9876\n",
            "Epoch 14/20\n",
            "625/625 [==============================] - 54s 86ms/step - loss: 0.0366 - accuracy: 0.9879 - val_loss: 0.0395 - val_accuracy: 0.9858\n",
            "Epoch 15/20\n",
            "625/625 [==============================] - 54s 86ms/step - loss: 0.0313 - accuracy: 0.9901 - val_loss: 0.0341 - val_accuracy: 0.9880\n",
            "Epoch 16/20\n",
            "625/625 [==============================] - 54s 87ms/step - loss: 0.0249 - accuracy: 0.9919 - val_loss: 0.0389 - val_accuracy: 0.9857\n",
            "Epoch 17/20\n",
            "625/625 [==============================] - 53s 84ms/step - loss: 0.0204 - accuracy: 0.9939 - val_loss: 0.0792 - val_accuracy: 0.9732\n",
            "Epoch 18/20\n",
            "625/625 [==============================] - 53s 85ms/step - loss: 0.0200 - accuracy: 0.9943 - val_loss: 0.0304 - val_accuracy: 0.9895\n",
            "Epoch 19/20\n",
            "625/625 [==============================] - 59s 94ms/step - loss: 0.0169 - accuracy: 0.9951 - val_loss: 0.0313 - val_accuracy: 0.9887\n",
            "Epoch 20/20\n",
            "625/625 [==============================] - 53s 85ms/step - loss: 0.0142 - accuracy: 0.9962 - val_loss: 0.0673 - val_accuracy: 0.9851\n",
            "625/625 [==============================] - 15s 24ms/step - loss: 0.0304 - accuracy: 0.9895\n",
            "Test acc: 0.990\n"
          ]
        }
      ],
      "source": [
        "callbacks = [\n",
        "    keras.callbacks.ModelCheckpoint(\"transformer_encoder.keras\",\n",
        "                                    save_best_only = True)\n",
        "]\n",
        "\n",
        "model.fit(int_train_ds, validation_data=int_val_ds, epochs=20, callbacks=callbacks)\n",
        "model = keras.models.load_model(\n",
        "    \"transformer_encoder.keras\",\n",
        "    custom_objects={\"TransformerEncoder\": TransformerEncoder}\n",
        "    )\n",
        "\n",
        "print(f\"Test acc: {model.evaluate(int_test_ds)[1]:.3f}\")"
      ]
    },
    {
      "cell_type": "markdown",
      "metadata": {
        "id": "rWKw9yofGk9k"
      },
      "source": [
        "## Using positional encoding to re-inject order information"
      ]
    },
    {
      "cell_type": "markdown",
      "metadata": {
        "id": "b1-m6ydEGucB"
      },
      "source": [
        "**Implementing positional embedding as a subclassed layer**"
      ]
    },
    {
      "cell_type": "code",
      "execution_count": 7,
      "metadata": {
        "id": "Cqb4QwtbGs5a"
      },
      "outputs": [],
      "source": [
        "class PositionalEmbedding(layers.Layer):\n",
        "  def __init__(self, sequence_length, input_dim, output_dim, **kwargs):\n",
        "    super().__init__(**kwargs)\n",
        "    self.token_embeddings = layers.Embedding(\n",
        "        input_dim=input_dim, output_dim=output_dim)\n",
        "    self.position_embeddings = layers.Embedding(\n",
        "        input_dim=sequence_length, output_dim=output_dim)\n",
        "    self.sequence_length = sequence_length\n",
        "    self.input_dim = input_dim\n",
        "    self.output_dim = output_dim\n",
        "\n",
        "  def call(self, inputs):\n",
        "    length = tf.shape(inputs)[-1]\n",
        "    positions = tf.range(start=0, limit=length, delta=1)\n",
        "    embedded_tokens = self.token_embeddings(inputs)\n",
        "    embedded_positions = self.position_embeddings(positions)\n",
        "    return embedded_tokens + embedded_positions\n",
        "\n",
        "  def compute_mask(self, inputs, mask=None):\n",
        "    return tf.math.not_equal(inputs, 0)\n",
        "\n",
        "  def get_config(self):\n",
        "    config = super().get_config()\n",
        "    config.update({\n",
        "        \"output_dim\": self.output_dim,\n",
        "        \"sequence_length\": self.sequence_length,\n",
        "        \"input_dim\": self.input_dim,\n",
        "    })\n",
        "    return config"
      ]
    },
    {
      "cell_type": "markdown",
      "metadata": {
        "id": "Y9ld5IXzIGdO"
      },
      "source": [
        "## Putting it all together: A text-classification Transformer"
      ]
    },
    {
      "cell_type": "markdown",
      "metadata": {
        "id": "vpok-WddIKXd"
      },
      "source": [
        "**Combining the Transformer encoder with positional embedding**"
      ]
    },
    {
      "cell_type": "code",
      "execution_count": 8,
      "metadata": {
        "colab": {
          "base_uri": "https://localhost:8080/"
        },
        "id": "5_869glNINyn",
        "outputId": "13a5cf9a-9178-4498-dfe8-7aa9b44b9fd8"
      },
      "outputs": [
        {
          "output_type": "stream",
          "name": "stdout",
          "text": [
            "Model: \"model_1\"\n",
            "_________________________________________________________________\n",
            " Layer (type)                Output Shape              Param #   \n",
            "=================================================================\n",
            " input_2 (InputLayer)        [(None, None)]            0         \n",
            "                                                                 \n",
            " positional_embedding (Posit  (None, None, 256)        5273600   \n",
            " ionalEmbedding)                                                 \n",
            "                                                                 \n",
            " transformer_encoder_1 (Tran  (None, None, 256)        543776    \n",
            " sformerEncoder)                                                 \n",
            "                                                                 \n",
            " global_max_pooling1d_1 (Glo  (None, 256)              0         \n",
            " balMaxPooling1D)                                                \n",
            "                                                                 \n",
            " dropout_1 (Dropout)         (None, 256)               0         \n",
            "                                                                 \n",
            " dense_7 (Dense)             (None, 1)                 257       \n",
            "                                                                 \n",
            "=================================================================\n",
            "Total params: 5,817,633\n",
            "Trainable params: 5,817,633\n",
            "Non-trainable params: 0\n",
            "_________________________________________________________________\n",
            "Epoch 1/20\n",
            "625/625 [==============================] - 58s 90ms/step - loss: 0.4697 - accuracy: 0.7836 - val_loss: 0.5777 - val_accuracy: 0.7210\n",
            "Epoch 2/20\n",
            "625/625 [==============================] - 55s 88ms/step - loss: 0.2400 - accuracy: 0.9061 - val_loss: 0.1349 - val_accuracy: 0.9482\n",
            "Epoch 3/20\n",
            "625/625 [==============================] - 56s 89ms/step - loss: 0.1820 - accuracy: 0.9311 - val_loss: 0.1080 - val_accuracy: 0.9609\n",
            "Epoch 4/20\n",
            "625/625 [==============================] - 56s 89ms/step - loss: 0.1487 - accuracy: 0.9457 - val_loss: 0.0980 - val_accuracy: 0.9642\n",
            "Epoch 5/20\n",
            "625/625 [==============================] - 54s 86ms/step - loss: 0.1275 - accuracy: 0.9560 - val_loss: 0.0991 - val_accuracy: 0.9661\n",
            "Epoch 6/20\n",
            "625/625 [==============================] - 56s 89ms/step - loss: 0.1110 - accuracy: 0.9617 - val_loss: 0.0742 - val_accuracy: 0.9743\n",
            "Epoch 7/20\n",
            "625/625 [==============================] - 56s 89ms/step - loss: 0.1045 - accuracy: 0.9653 - val_loss: 0.0679 - val_accuracy: 0.9772\n",
            "Epoch 8/20\n",
            "625/625 [==============================] - 54s 87ms/step - loss: 0.0942 - accuracy: 0.9673 - val_loss: 0.0676 - val_accuracy: 0.9771\n",
            "Epoch 9/20\n",
            "625/625 [==============================] - 56s 89ms/step - loss: 0.0822 - accuracy: 0.9715 - val_loss: 0.0623 - val_accuracy: 0.9794\n",
            "Epoch 10/20\n",
            "625/625 [==============================] - 57s 90ms/step - loss: 0.0748 - accuracy: 0.9750 - val_loss: 0.0535 - val_accuracy: 0.9834\n",
            "Epoch 11/20\n",
            "625/625 [==============================] - 56s 89ms/step - loss: 0.0677 - accuracy: 0.9779 - val_loss: 0.0512 - val_accuracy: 0.9827\n",
            "Epoch 12/20\n",
            "625/625 [==============================] - 56s 89ms/step - loss: 0.0614 - accuracy: 0.9794 - val_loss: 0.0468 - val_accuracy: 0.9844\n",
            "Epoch 13/20\n",
            "625/625 [==============================] - 57s 91ms/step - loss: 0.0561 - accuracy: 0.9829 - val_loss: 0.0524 - val_accuracy: 0.9825\n",
            "Epoch 14/20\n",
            "625/625 [==============================] - 60s 96ms/step - loss: 0.0557 - accuracy: 0.9819 - val_loss: 0.0407 - val_accuracy: 0.9851\n",
            "Epoch 15/20\n",
            "625/625 [==============================] - 55s 88ms/step - loss: 0.0445 - accuracy: 0.9851 - val_loss: 0.0321 - val_accuracy: 0.9898\n",
            "Epoch 16/20\n",
            "625/625 [==============================] - 57s 91ms/step - loss: 0.0418 - accuracy: 0.9868 - val_loss: 0.0382 - val_accuracy: 0.9869\n",
            "Epoch 17/20\n",
            "625/625 [==============================] - 56s 89ms/step - loss: 0.0380 - accuracy: 0.9877 - val_loss: 0.0487 - val_accuracy: 0.9886\n",
            "Epoch 18/20\n",
            "625/625 [==============================] - 56s 89ms/step - loss: 0.0353 - accuracy: 0.9890 - val_loss: 0.0262 - val_accuracy: 0.9918\n",
            "Epoch 19/20\n",
            "625/625 [==============================] - 56s 90ms/step - loss: 0.0338 - accuracy: 0.9890 - val_loss: 0.0173 - val_accuracy: 0.9942\n",
            "Epoch 20/20\n",
            "625/625 [==============================] - 56s 89ms/step - loss: 0.0290 - accuracy: 0.9909 - val_loss: 0.0711 - val_accuracy: 0.9755\n",
            "625/625 [==============================] - 17s 26ms/step - loss: 0.0173 - accuracy: 0.9942\n",
            "Test acc: 0.994\n"
          ]
        }
      ],
      "source": [
        "vocab_size = 20000\n",
        "sequence_length = 600\n",
        "embed_dim = 256\n",
        "num_heads = 2\n",
        "dense_dim = 32\n",
        "\n",
        "inputs = keras.Input(shape=(None,), dtype=\"int64\")\n",
        "x = PositionalEmbedding(sequence_length, vocab_size, embed_dim)(inputs)\n",
        "x = TransformerEncoder(embed_dim, dense_dim, num_heads)(x)\n",
        "x = layers.GlobalMaxPooling1D()(x)\n",
        "x = layers.Dropout(0.5)(x)\n",
        "outputs = layers.Dense(1, activation=\"sigmoid\")(x)\n",
        "model = keras.Model(inputs, outputs)\n",
        "model.compile(optimizer=\"rmsprop\",\n",
        "              loss=\"binary_crossentropy\",\n",
        "              metrics=[\"accuracy\"])\n",
        "model.summary()\n",
        "\n",
        "callbacks = [\n",
        "    keras.callbacks.ModelCheckpoint(\"full_transformer_encoder.keras\",\n",
        "                                    save_best_only=True)\n",
        "]\n",
        "\n",
        "model.fit(int_train_ds, validation_data=int_val_ds, epochs=20, callbacks=callbacks)\n",
        "model = keras.models.load_model(\n",
        "    \"full_transformer_encoder.keras\",\n",
        "    custom_objects = {\"TransformerEncoder\": TransformerEncoder,\n",
        "                      \"PositionalEmbedding\": PositionalEmbedding})\n",
        "print(f\"Test acc: {model.evaluate(int_test_ds)[1]:.3f}\")"
      ]
    }
  ],
  "metadata": {
    "accelerator": "GPU",
    "colab": {
      "provenance": [],
      "include_colab_link": true
    },
    "gpuClass": "standard",
    "kernelspec": {
      "display_name": "Python 3",
      "name": "python3"
    },
    "language_info": {
      "name": "python"
    }
  },
  "nbformat": 4,
  "nbformat_minor": 0
}